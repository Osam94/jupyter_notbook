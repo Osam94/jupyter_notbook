{
 "cells": [
  {
   "cell_type": "code",
   "execution_count": 2,
   "id": "748e5f69-d869-4794-9d49-619297d60a1a",
   "metadata": {},
   "outputs": [
    {
     "data": {
      "text/plain": [
       "{'name': 'jone', 'surename': 'doe', 'age': 32}"
      ]
     },
     "execution_count": 2,
     "metadata": {},
     "output_type": "execute_result"
    }
   ],
   "source": [
    "client_data={ \"name\":\"jone\",\"surename\":\"doe\",\"age\":32}\n",
    "\n",
    "client_data"
   ]
  },
  {
   "cell_type": "code",
   "execution_count": 2,
   "id": "0997a827-753d-47a4-9e0e-cd75f8c4cf89",
   "metadata": {},
   "outputs": [
    {
     "data": {
      "text/plain": [
       "'jone'"
      ]
     },
     "execution_count": 2,
     "metadata": {},
     "output_type": "execute_result"
    }
   ],
   "source": [
    "client_data[\"name\"]"
   ]
  },
  {
   "cell_type": "code",
   "execution_count": 5,
   "id": "2f580d16-45de-454f-b27f-c50ee13556f7",
   "metadata": {},
   "outputs": [
    {
     "data": {
      "text/plain": [
       "32"
      ]
     },
     "execution_count": 5,
     "metadata": {},
     "output_type": "execute_result"
    }
   ],
   "source": [
    "client_data.get(\"age\")"
   ]
  },
  {
   "cell_type": "code",
   "execution_count": 13,
   "id": "b5a7b6b7-a9b6-4152-bc28-20c4d623a943",
   "metadata": {},
   "outputs": [
    {
     "data": {
      "text/plain": [
       "dict_keys(['name', 'surename', 'age'])"
      ]
     },
     "execution_count": 13,
     "metadata": {},
     "output_type": "execute_result"
    }
   ],
   "source": [
    "client_data.keys()"
   ]
  },
  {
   "cell_type": "code",
   "execution_count": 14,
   "id": "506ec362-6cd6-427d-895d-5d514125a3a3",
   "metadata": {},
   "outputs": [
    {
     "data": {
      "text/plain": [
       "dict_values(['jone', 'doe', 32])"
      ]
     },
     "execution_count": 14,
     "metadata": {},
     "output_type": "execute_result"
    }
   ],
   "source": [
    "client_data.values()"
   ]
  },
  {
   "cell_type": "code",
   "execution_count": 15,
   "id": "d9831088-c941-4296-b1eb-81631b075185",
   "metadata": {},
   "outputs": [
    {
     "data": {
      "text/plain": [
       "dict_items([('name', 'jone'), ('surename', 'doe'), ('age', 32)])"
      ]
     },
     "execution_count": 15,
     "metadata": {},
     "output_type": "execute_result"
    }
   ],
   "source": [
    "client_data.items()"
   ]
  },
  {
   "cell_type": "code",
   "execution_count": 5,
   "id": "04fd834b-37b8-433a-baa2-30b280a5717d",
   "metadata": {},
   "outputs": [
    {
     "name": "stdout",
     "output_type": "stream",
     "text": [
      "name:jone\n",
      "surename:doe\n",
      "age:32\n"
     ]
    }
   ],
   "source": [
    "for k,v in client_data.items():\n",
    "    print(f\"{k}:{v}\")"
   ]
  },
  {
   "cell_type": "code",
   "execution_count": 6,
   "id": "9f9c61c2-17e2-454a-b67e-96dbbea68f83",
   "metadata": {},
   "outputs": [
    {
     "data": {
      "text/plain": [
       "{'name': 'jone', 'surename': 'doe', 'age': 32, 'hight': 189}"
      ]
     },
     "execution_count": 6,
     "metadata": {},
     "output_type": "execute_result"
    }
   ],
   "source": [
    "client_data[\"hight\"]=189\n",
    "client_data"
   ]
  },
  {
   "cell_type": "code",
   "execution_count": 19,
   "id": "f6baae05-fe69-491c-a2ce-4a630c1c7de0",
   "metadata": {},
   "outputs": [
    {
     "data": {
      "text/plain": [
       "{'name': 'jone', 'surename': 'doe', 'age': 19, 'hight': 189}"
      ]
     },
     "execution_count": 19,
     "metadata": {},
     "output_type": "execute_result"
    }
   ],
   "source": [
    "client_data[\"age\"]=19\n",
    "client_data"
   ]
  },
  {
   "cell_type": "code",
   "execution_count": 20,
   "id": "f1e5d2e2-6dca-4b3c-8aac-71988e42bc28",
   "metadata": {},
   "outputs": [
    {
     "data": {
      "text/plain": [
       "{'name': 'jone', 'surename': 'doe', 'age': 32, 'hight': 189}"
      ]
     },
     "execution_count": 20,
     "metadata": {},
     "output_type": "execute_result"
    }
   ],
   "source": [
    "client_data[\"age\"]=32\n",
    "client_data"
   ]
  },
  {
   "cell_type": "code",
   "execution_count": 21,
   "id": "d0758f23-f9b7-44f9-a1bc-b0c366f73e2c",
   "metadata": {},
   "outputs": [
    {
     "data": {
      "text/plain": [
       "32"
      ]
     },
     "execution_count": 21,
     "metadata": {},
     "output_type": "execute_result"
    }
   ],
   "source": [
    "client_data.setdefault(\"age\",19)"
   ]
  },
  {
   "cell_type": "code",
   "execution_count": 22,
   "id": "cd84c682-3dcd-4eed-8173-fb4d15249e74",
   "metadata": {},
   "outputs": [
    {
     "data": {
      "text/plain": [
       "{'name': 'jone', 'surename': 'doe', 'age': 32, 'hight': 189}"
      ]
     },
     "execution_count": 22,
     "metadata": {},
     "output_type": "execute_result"
    }
   ],
   "source": [
    "client_data"
   ]
  },
  {
   "cell_type": "markdown",
   "id": "84f6260c-04fc-49b4-883f-a4cbb4c718ef",
   "metadata": {},
   "source": [
    "# вложеный словарь: это словарь внутри словаря"
   ]
  },
  {
   "cell_type": "code",
   "execution_count": 26,
   "id": "6fb2acd2-ffa2-455e-889b-b8321477b73d",
   "metadata": {},
   "outputs": [
    {
     "data": {
      "text/plain": [
       "{'name': 'jone',\n",
       " 'surename': 'doe',\n",
       " 'age': 32,\n",
       " 'hight': 189,\n",
       " 'body': {'hight': 189, 'weight': 89}}"
      ]
     },
     "execution_count": 26,
     "metadata": {},
     "output_type": "execute_result"
    }
   ],
   "source": [
    "client_data.update({\"body\":{\"hight\":189,\"weight\":89}})\n",
    "client_data"
   ]
  },
  {
   "cell_type": "code",
   "execution_count": 27,
   "id": "11eaeed7-9b77-448a-9de8-2666667f1675",
   "metadata": {},
   "outputs": [
    {
     "data": {
      "text/plain": [
       "{'hight': 189, 'weight': 89}"
      ]
     },
     "execution_count": 27,
     "metadata": {},
     "output_type": "execute_result"
    }
   ],
   "source": [
    "client_data[\"body\"]"
   ]
  },
  {
   "cell_type": "code",
   "execution_count": 28,
   "id": "1c941005-78d6-4ce4-82c8-b98b8ea425f3",
   "metadata": {},
   "outputs": [
    {
     "data": {
      "text/plain": [
       "89"
      ]
     },
     "execution_count": 28,
     "metadata": {},
     "output_type": "execute_result"
    }
   ],
   "source": [
    "client_data[\"body\"][\"weight\"]"
   ]
  },
  {
   "cell_type": "markdown",
   "id": "e4851fba-e7d7-472f-ada1-8ea6d2ccedd3",
   "metadata": {},
   "source": [
    "# модуль рандом"
   ]
  },
  {
   "cell_type": "code",
   "execution_count": 5,
   "id": "d896ca38-5498-4b5a-811a-9a38ab64104c",
   "metadata": {},
   "outputs": [],
   "source": [
    "import random"
   ]
  },
  {
   "cell_type": "code",
   "execution_count": 10,
   "id": "510b9a9b-2863-4136-9052-e331608bf9cd",
   "metadata": {},
   "outputs": [
    {
     "data": {
      "text/plain": [
       "9"
      ]
     },
     "execution_count": 10,
     "metadata": {},
     "output_type": "execute_result"
    }
   ],
   "source": [
    "random.randint(0,10)"
   ]
  },
  {
   "cell_type": "code",
   "execution_count": 11,
   "id": "36c29489-a7c7-49cf-8928-8d9f451605ed",
   "metadata": {},
   "outputs": [
    {
     "data": {
      "text/plain": [
       "7"
      ]
     },
     "execution_count": 11,
     "metadata": {},
     "output_type": "execute_result"
    }
   ],
   "source": [
    "random.seed(9)\n",
    "random.randint(0,10)"
   ]
  },
  {
   "cell_type": "code",
   "execution_count": 16,
   "id": "cf269732-3c0a-4fb2-be36-18b4131a905e",
   "metadata": {},
   "outputs": [
    {
     "data": {
      "text/plain": [
       "0.33832551168488023"
      ]
     },
     "execution_count": 16,
     "metadata": {},
     "output_type": "execute_result"
    }
   ],
   "source": [
    "random.random()"
   ]
  },
  {
   "cell_type": "code",
   "execution_count": 19,
   "id": "60ba8b73-4d8a-4e03-8908-c8464b0fe154",
   "metadata": {},
   "outputs": [
    {
     "data": {
      "text/plain": [
       "3.3402400876783176"
      ]
     },
     "execution_count": 19,
     "metadata": {},
     "output_type": "execute_result"
    }
   ],
   "source": [
    "random.uniform(0,10)"
   ]
  },
  {
   "cell_type": "code",
   "execution_count": 23,
   "id": "8c65621f-8047-4f62-8466-f6635c9869be",
   "metadata": {},
   "outputs": [
    {
     "data": {
      "text/plain": [
       "['green', 'black']"
      ]
     },
     "execution_count": 23,
     "metadata": {},
     "output_type": "execute_result"
    }
   ],
   "source": [
    "a=[\"black\",\"red\",\"yellow\",\"green\"]\n",
    "random.sample(a,2)"
   ]
  },
  {
   "cell_type": "code",
   "execution_count": 28,
   "id": "8b862206-a984-485f-b52c-322c05d8ae78",
   "metadata": {},
   "outputs": [
    {
     "data": {
      "text/plain": [
       "['black', 'green', 'yellow', 'red']"
      ]
     },
     "execution_count": 28,
     "metadata": {},
     "output_type": "execute_result"
    }
   ],
   "source": [
    "random.shuffle(a)\n",
    "a"
   ]
  },
  {
   "cell_type": "code",
   "execution_count": 76,
   "id": "63c5d981-c025-43f2-b634-96d0881d5f9b",
   "metadata": {},
   "outputs": [
    {
     "data": {
      "text/plain": [
       "'yellow'"
      ]
     },
     "execution_count": 76,
     "metadata": {},
     "output_type": "execute_result"
    }
   ],
   "source": [
    "random.choice(a)"
   ]
  },
  {
   "cell_type": "markdown",
   "id": "9e1f06f2-b4b8-487f-af15-7e9fa98b3da4",
   "metadata": {},
   "source": [
    "# функции"
   ]
  },
  {
   "cell_type": "code",
   "execution_count": 77,
   "id": "2c6ee89f-4c31-48ed-afe8-af4ceadb7453",
   "metadata": {},
   "outputs": [],
   "source": [
    "def calc_sum(a,b):\n",
    "    print(f\"a is {a}\")\n",
    "    print(F\"b is {b}\")\n",
    "    return a+b\n"
   ]
  },
  {
   "cell_type": "code",
   "execution_count": 78,
   "id": "bb632ee1-a708-4ed7-9e98-f963670ada7b",
   "metadata": {},
   "outputs": [
    {
     "name": "stdout",
     "output_type": "stream",
     "text": [
      "a is 5\n",
      "b is 8\n"
     ]
    },
    {
     "data": {
      "text/plain": [
       "13"
      ]
     },
     "execution_count": 78,
     "metadata": {},
     "output_type": "execute_result"
    }
   ],
   "source": [
    "calc_sum(5,8)"
   ]
  },
  {
   "cell_type": "code",
   "execution_count": 79,
   "id": "5d682f5e-9857-4bdd-b73d-15e331fff81e",
   "metadata": {},
   "outputs": [
    {
     "name": "stdout",
     "output_type": "stream",
     "text": [
      "a is 5\n",
      "b is 8\n"
     ]
    },
    {
     "data": {
      "text/plain": [
       "13"
      ]
     },
     "execution_count": 79,
     "metadata": {},
     "output_type": "execute_result"
    }
   ],
   "source": [
    "calc_sum(a=5,b=8)"
   ]
  },
  {
   "cell_type": "code",
   "execution_count": 80,
   "id": "c2a89445-f6e3-47a2-ba73-f9613b093c8b",
   "metadata": {},
   "outputs": [
    {
     "name": "stdout",
     "output_type": "stream",
     "text": [
      "a is 8\n",
      "b is 5\n"
     ]
    },
    {
     "data": {
      "text/plain": [
       "13"
      ]
     },
     "execution_count": 80,
     "metadata": {},
     "output_type": "execute_result"
    }
   ],
   "source": [
    "calc_sum(a=8,b=5)"
   ]
  },
  {
   "cell_type": "code",
   "execution_count": 81,
   "id": "1be6c6ec-6cf6-49de-ac07-f9905724a832",
   "metadata": {},
   "outputs": [
    {
     "data": {
      "text/plain": [
       "'hello,world'"
      ]
     },
     "execution_count": 81,
     "metadata": {},
     "output_type": "execute_result"
    }
   ],
   "source": [
    "def say_hi(greeting=\"hello\",name=\"world\"):\n",
    "    return f\"{greeting},{name}\"\n",
    "say_hi()"
   ]
  },
  {
   "cell_type": "markdown",
   "id": "a940c15a-6189-4c14-a155-ba467ce31d78",
   "metadata": {},
   "source": [
    "# аргументы (*args)"
   ]
  },
  {
   "cell_type": "code",
   "execution_count": 82,
   "id": "c0ab4f8a-340a-4230-82d2-0ac59e495e04",
   "metadata": {},
   "outputs": [
    {
     "data": {
      "text/plain": [
       "31"
      ]
     },
     "execution_count": 82,
     "metadata": {},
     "output_type": "execute_result"
    }
   ],
   "source": [
    "def calc_sum(a,b,c,d,e):\n",
    "    return a+b+c+d+e\n",
    "calc_sum(5,6,7,8,5)"
   ]
  },
  {
   "cell_type": "code",
   "execution_count": 83,
   "id": "bfef8df0-f4be-4281-94b9-fd376a998770",
   "metadata": {},
   "outputs": [
    {
     "data": {
      "text/plain": [
       "38"
      ]
     },
     "execution_count": 83,
     "metadata": {},
     "output_type": "execute_result"
    }
   ],
   "source": [
    "def calc_sum(*args):\n",
    "    return sum(args)\n",
    "calc_sum(10,4,6,7,8,3)"
   ]
  },
  {
   "cell_type": "code",
   "execution_count": 84,
   "id": "47e52e4c-5038-4115-b594-2e2017ee584f",
   "metadata": {},
   "outputs": [
    {
     "name": "stdout",
     "output_type": "stream",
     "text": [
      "1\n",
      "text\n",
      "{'key': 'value'}\n"
     ]
    }
   ],
   "source": [
    "def printer(*args):\n",
    "    for i in args:\n",
    "        print(i)\n",
    "printer( 1 ,\"text\",{ \"key\":\"value\"})"
   ]
  },
  {
   "cell_type": "code",
   "execution_count": 85,
   "id": "b63a1805-6a75-4275-8dd4-401a5eced0d5",
   "metadata": {},
   "outputs": [
    {
     "name": "stdout",
     "output_type": "stream",
     "text": [
      "['john', 'nick', 'bill']\n"
     ]
    }
   ],
   "source": [
    "names=[\"john\",\"nick\",\"bill\"]\n",
    "printer(names)\n"
   ]
  },
  {
   "cell_type": "code",
   "execution_count": 86,
   "id": "4f7a27a1-44b6-4de2-874b-991c8849d43f",
   "metadata": {},
   "outputs": [
    {
     "name": "stdout",
     "output_type": "stream",
     "text": [
      "john\n",
      "nick\n",
      "bill\n"
     ]
    }
   ],
   "source": [
    "printer(*names)"
   ]
  },
  {
   "cell_type": "markdown",
   "id": "233bb416-5313-49c2-b0ca-e34d3ca30482",
   "metadata": {},
   "source": [
    "# артибут **kwargs"
   ]
  },
  {
   "cell_type": "code",
   "execution_count": 88,
   "id": "72ab2b6b-b55d-4c42-8d4a-e5b9a8c6eca6",
   "metadata": {},
   "outputs": [
    {
     "name": "stdout",
     "output_type": "stream",
     "text": [
      "a-1\n",
      "b-7\n",
      "c-{1, 3, 4}\n"
     ]
    }
   ],
   "source": [
    "def printer(**kwargs):\n",
    "    for key,value in kwargs.items():\n",
    "        print(f\"{key}-{value}\")\n",
    "printer(a=1,b=7,c={1,3,4})        "
   ]
  },
  {
   "cell_type": "code",
   "execution_count": 92,
   "id": "5d1506c0-cdde-46cd-adf4-272ddb3d6cd8",
   "metadata": {},
   "outputs": [
    {
     "data": {
      "text/plain": [
       "'hello,world'"
      ]
     },
     "execution_count": 92,
     "metadata": {},
     "output_type": "execute_result"
    }
   ],
   "source": [
    "def say_hi(**kwargs):\n",
    "    greeting=kwargs.get(\"greeting\",\"hello\")\n",
    "    name=kwargs.get(\"name\",\"world\")\n",
    "    return f\"{greeting},{name}\"\n",
    "say_hi()"
   ]
  },
  {
   "cell_type": "code",
   "execution_count": 95,
   "id": "e9273651-8576-46eb-835d-de2190e461da",
   "metadata": {},
   "outputs": [
    {
     "data": {
      "text/plain": [
       "'hi,osama'"
      ]
     },
     "execution_count": 95,
     "metadata": {},
     "output_type": "execute_result"
    }
   ],
   "source": [
    "say_hi(greeting=\"hi\",name=\"osama\")"
   ]
  },
  {
   "cell_type": "code",
   "execution_count": 100,
   "id": "bd67216b-026f-43d9-be92-99360f421e1d",
   "metadata": {},
   "outputs": [
    {
     "data": {
      "text/plain": [
       "'Hey,john'"
      ]
     },
     "execution_count": 100,
     "metadata": {},
     "output_type": "execute_result"
    }
   ],
   "source": [
    "data={\"greeting\":\"Hey\",\"name\":\"john\",\"extra\":5}\n",
    "say_hi(**data)"
   ]
  },
  {
   "cell_type": "markdown",
   "id": "b94288e9-83b0-488b-a7d2-ac1f8bac1da2",
   "metadata": {},
   "source": [
    "# Аннотирование типов"
   ]
  },
  {
   "cell_type": "code",
   "execution_count": 109,
   "id": "c732a3ef-3b9e-425b-8d34-0f62ac1892d7",
   "metadata": {},
   "outputs": [
    {
     "data": {
      "text/plain": [
       "5"
      ]
     },
     "execution_count": 109,
     "metadata": {},
     "output_type": "execute_result"
    }
   ],
   "source": [
    "def calc_sum (a=int,b=int) ->int:\n",
    "    return a+b\n",
    "calc_sum(2,3)"
   ]
  },
  {
   "cell_type": "code",
   "execution_count": 110,
   "id": "32b34990-745c-488b-9ecd-775dbfcd77a4",
   "metadata": {},
   "outputs": [
    {
     "data": {
      "text/plain": [
       "6.21"
      ]
     },
     "execution_count": 110,
     "metadata": {},
     "output_type": "execute_result"
    }
   ],
   "source": [
    "calc_sum(1.45,4.76)"
   ]
  },
  {
   "cell_type": "code",
   "execution_count": 108,
   "id": "9cccc3f2-38eb-4525-800f-94e327d7be36",
   "metadata": {},
   "outputs": [
    {
     "data": {
      "text/plain": [
       "'abcdef'"
      ]
     },
     "execution_count": 108,
     "metadata": {},
     "output_type": "execute_result"
    }
   ],
   "source": [
    "calc_sum(\"abc\",\"def\")"
   ]
  },
  {
   "cell_type": "markdown",
   "id": "5b592fda-13cb-457d-b1dc-df1ab477de77",
   "metadata": {},
   "source": [
    "# генераторы"
   ]
  },
  {
   "cell_type": "code",
   "execution_count": 7,
   "id": "c8f35a50-9a81-460a-90bd-196bc2ea3dc2",
   "metadata": {},
   "outputs": [
    {
     "data": {
      "text/plain": [
       "<generator object my_range at 0x0000022B496A1CB0>"
      ]
     },
     "execution_count": 7,
     "metadata": {},
     "output_type": "execute_result"
    }
   ],
   "source": [
    "def my_range(start,end):\n",
    "    current=start\n",
    "    while current<end:\n",
    "        yield current\n",
    "        current+=1\n",
    "ranger=my_range(0,2)\n",
    "ranger\n",
    "    "
   ]
  },
  {
   "cell_type": "code",
   "execution_count": 8,
   "id": "a4d211f1-c3aa-4466-8230-842ff91cfe9d",
   "metadata": {},
   "outputs": [
    {
     "data": {
      "text/plain": [
       "0"
      ]
     },
     "execution_count": 8,
     "metadata": {},
     "output_type": "execute_result"
    }
   ],
   "source": [
    "next(ranger)"
   ]
  },
  {
   "cell_type": "code",
   "execution_count": 9,
   "id": "114c8147-0b5f-4dd7-8b74-ae8b37d58bce",
   "metadata": {},
   "outputs": [
    {
     "data": {
      "text/plain": [
       "1"
      ]
     },
     "execution_count": 9,
     "metadata": {},
     "output_type": "execute_result"
    }
   ],
   "source": [
    "next(ranger)"
   ]
  },
  {
   "cell_type": "code",
   "execution_count": 10,
   "id": "29aea74b-ce6d-4c51-a6b4-6678d03b7719",
   "metadata": {},
   "outputs": [
    {
     "name": "stdout",
     "output_type": "stream",
     "text": [
      "2\n",
      "3\n",
      "4\n"
     ]
    }
   ],
   "source": [
    "gen_a=my_range(2,5)\n",
    "for i in gen_a:\n",
    "    print(i)"
   ]
  },
  {
   "cell_type": "markdown",
   "id": "f2ae5ff8-b48e-4c4e-b0ce-ea0a3b4b34b8",
   "metadata": {},
   "source": [
    "# list comprehensions"
   ]
  },
  {
   "cell_type": "code",
   "execution_count": 32,
   "id": "737a95d6-198c-489a-b116-6a37038e5e40",
   "metadata": {},
   "outputs": [
    {
     "data": {
      "text/plain": [
       "[0, 1, 4, 9, 16]"
      ]
     },
     "execution_count": 32,
     "metadata": {},
     "output_type": "execute_result"
    }
   ],
   "source": [
    "squers=[]\n",
    "for i in range(5):\n",
    "    squers.append(i*i)\n",
    "squers\n",
    "    "
   ]
  },
  {
   "cell_type": "code",
   "execution_count": 33,
   "id": "066fc8ef-9dbf-4446-8d31-4a1a92ebc188",
   "metadata": {},
   "outputs": [
    {
     "data": {
      "text/plain": [
       "[0, 1, 4, 9, 16]"
      ]
     },
     "execution_count": 33,
     "metadata": {},
     "output_type": "execute_result"
    }
   ],
   "source": [
    "squers=[i*i for i in range(5)]\n",
    "squers"
   ]
  },
  {
   "cell_type": "code",
   "execution_count": 11,
   "id": "5b94354c-788a-4494-8f6b-c1e4370251d0",
   "metadata": {},
   "outputs": [
    {
     "data": {
      "text/plain": [
       "[0, 2, 4, 6, 8]"
      ]
     },
     "execution_count": 11,
     "metadata": {},
     "output_type": "execute_result"
    }
   ],
   "source": [
    "even_nums=[]\n",
    "for i in range(10):\n",
    "    if i % 2==0:\n",
    "        even_nums.append(i)\n",
    "even_nums"
   ]
  },
  {
   "cell_type": "code",
   "execution_count": 122,
   "id": "6a5e8f07-3417-43ff-9209-1444e08d3325",
   "metadata": {},
   "outputs": [
    {
     "data": {
      "text/plain": [
       "[0, 2, 4, 6, 8]"
      ]
     },
     "execution_count": 122,
     "metadata": {},
     "output_type": "execute_result"
    }
   ],
   "source": [
    "even_nums=[i for i in range(10) if i%2==0]\n",
    "even_nums"
   ]
  },
  {
   "cell_type": "code",
   "execution_count": 123,
   "id": "c4a766f9-aac4-4b7d-9321-0026efd708c9",
   "metadata": {},
   "outputs": [
    {
     "data": {
      "text/plain": [
       "[10, 14, 0, 19, 167, 0]"
      ]
     },
     "execution_count": 123,
     "metadata": {},
     "output_type": "execute_result"
    }
   ],
   "source": [
    "orig_prices=[10,14,-18,19,167,-3]\n",
    "prices=[]\n",
    "for i in orig_prices:\n",
    "    if i >0:\n",
    "        prices.append(i)\n",
    "    else:\n",
    "        prices.append(0)\n",
    "prices"
   ]
  },
  {
   "cell_type": "code",
   "execution_count": 126,
   "id": "b1ce8e26-6175-44e9-868b-6bcaa598630c",
   "metadata": {},
   "outputs": [
    {
     "data": {
      "text/plain": [
       "[10, 14, 0, 19, 167, 0]"
      ]
     },
     "execution_count": 126,
     "metadata": {},
     "output_type": "execute_result"
    }
   ],
   "source": [
    "orig_prices=[10,14,-18,19,167,-3]\n",
    "prices=[i if i>0 else 0 for i  in orig_prices]\n",
    "prices"
   ]
  },
  {
   "cell_type": "code",
   "execution_count": 128,
   "id": "201fe31e-e12c-4497-8c28-ff038c2a1d65",
   "metadata": {},
   "outputs": [
    {
     "data": {
      "text/plain": [
       "[10, 14, 0, 19, 167, 0]"
      ]
     },
     "execution_count": 128,
     "metadata": {},
     "output_type": "execute_result"
    }
   ],
   "source": [
    "def get_price(price):\n",
    "    return price if price>0 else 0\n",
    "prices=[get_price(i) for i in orig_prices]\n",
    "prices"
   ]
  },
  {
   "cell_type": "markdown",
   "id": "e48be1ea-f069-4a7a-85a0-56d0d54592e0",
   "metadata": {},
   "source": [
    "# set compehensions"
   ]
  },
  {
   "cell_type": "code",
   "execution_count": 12,
   "id": "68b2e264-aa92-486c-999c-4951734a626b",
   "metadata": {},
   "outputs": [
    {
     "data": {
      "text/plain": [
       "{'black', 'green', 'red'}"
      ]
     },
     "execution_count": 12,
     "metadata": {},
     "output_type": "execute_result"
    }
   ],
   "source": [
    "colors=[\"black\",\"red\",\"green\",\"red\",\"green\"]\n",
    "{i for i in colors}"
   ]
  },
  {
   "cell_type": "markdown",
   "id": "d6affcec-edfa-4119-a160-95992f5a981f",
   "metadata": {},
   "source": [
    "# dict compehensions"
   ]
  },
  {
   "cell_type": "code",
   "execution_count": 13,
   "id": "d5e7df5c-0743-4180-96ea-cb4a41776fc3",
   "metadata": {},
   "outputs": [
    {
     "data": {
      "text/plain": [
       "{0: 0, 1: 1, 2: 4, 3: 9, 4: 16}"
      ]
     },
     "execution_count": 13,
     "metadata": {},
     "output_type": "execute_result"
    }
   ],
   "source": [
    "squares_dict={i:i*i for i in range(5)}\n",
    "squares_dict"
   ]
  },
  {
   "cell_type": "markdown",
   "id": "be1a0cd2-1af0-4191-8232-7119034e414f",
   "metadata": {},
   "source": [
    "# задачи"
   ]
  },
  {
   "cell_type": "markdown",
   "id": "c2611a3c",
   "metadata": {},
   "source": [
    "# №1 два словаря в одном"
   ]
  },
  {
   "cell_type": "code",
   "execution_count": 16,
   "id": "1a790a11",
   "metadata": {},
   "outputs": [
    {
     "data": {
      "text/plain": [
       "{'one': 1, 'tow': 2, 'three': 3, 'four': 4, 'five': 5, 'six': 6}"
      ]
     },
     "execution_count": 16,
     "metadata": {},
     "output_type": "execute_result"
    }
   ],
   "source": [
    "dict1={\"one\":1,\"tow\":2,\"three\":3}\n",
    "dict2={\"four\":4,\"five\":5,\"six\":6}\n",
    "\n",
    "# def sum_dict(a=dict,b=dict)->dict:\n",
    "#     return{**a,**b}\n",
    "\n",
    "# sum_dict(dict1,dict2)\n",
    "\n",
    "dict1.update(dict2)\n",
    "dict1"
   ]
  },
  {
   "cell_type": "markdown",
   "id": "4988f83f",
   "metadata": {},
   "source": [
    "# задача 2 , из двух список один словарь"
   ]
  },
  {
   "cell_type": "code",
   "execution_count": 40,
   "id": "405f6b93",
   "metadata": {},
   "outputs": [
    {
     "data": {
      "text/plain": [
       "{'one': 1, 'tow': 2, 'three': 3}"
      ]
     },
     "execution_count": 40,
     "metadata": {},
     "output_type": "execute_result"
    }
   ],
   "source": [
    "keys=[\"one\",\"tow\",\"three\"]\n",
    "value=[1,2,3]\n",
    "def printer(k=list,v=list)->dict:\n",
    "    return {k[i]:v[i] for i in range(len(v))}\n",
    "    \n",
    "    \n",
    "printer(keys,value)"
   ]
  },
  {
   "cell_type": "markdown",
   "id": "154bcfbd",
   "metadata": {},
   "source": [
    "# задача 3 извлечь ключи из словаря "
   ]
  },
  {
   "cell_type": "code",
   "execution_count": 46,
   "id": "9d5e8f4b",
   "metadata": {},
   "outputs": [
    {
     "data": {
      "text/plain": [
       "{'name': 'john', 'age': 25}"
      ]
     },
     "execution_count": 46,
     "metadata": {},
     "output_type": "execute_result"
    }
   ],
   "source": [
    "def key (d=dict,k1=\"name\",k2=\"age\")->dict:\n",
    "    return{k1:d[k1],k2:d[k2]}\n",
    "client_dict={\"name\":\"john\",\"age\":25,\"sallary\":5000,\"city\":\"moscow\"}\n",
    "key(client_dict,\"name\",\"age\")"
   ]
  },
  {
   "cell_type": "code",
   "execution_count": null,
   "id": "02b3995b",
   "metadata": {},
   "outputs": [],
   "source": []
  },
  {
   "cell_type": "markdown",
   "id": "d6ff5c03",
   "metadata": {},
   "source": [
    "# задача 6"
   ]
  },
  {
   "cell_type": "code",
   "execution_count": 47,
   "id": "955f2d4b",
   "metadata": {},
   "outputs": [
    {
     "data": {
      "text/plain": [
       "{'sum': 100, 'sred': 25.0}"
      ]
     },
     "execution_count": 47,
     "metadata": {},
     "output_type": "execute_result"
    }
   ],
   "source": [
    "def trat(*args):\n",
    "    return{\"sum\":sum(args),\"sred\":sum(args)/len(args)}\n",
    "trat(10,20,30,40)"
   ]
  },
  {
   "cell_type": "markdown",
   "id": "9d79c4c0",
   "metadata": {},
   "source": [
    "# задача 5"
   ]
  },
  {
   "cell_type": "markdown",
   "id": "a4d3261a",
   "metadata": {},
   "source": [
    "<img src=\"https://gipermed.ru/upload/iblock/856/85680430ffd34078bc606fce44ab37d3.jpg\">"
   ]
  },
  {
   "cell_type": "markdown",
   "id": "6c8f406b",
   "metadata": {},
   "source": []
  },
  {
   "cell_type": "code",
   "execution_count": 34,
   "id": "0a431fcc",
   "metadata": {},
   "outputs": [
    {
     "name": "stdout",
     "output_type": "stream",
     "text": [
      "(0, 29)\n",
      "(2, 47)\n",
      "(2, 48)\n",
      "(2, 16)\n",
      "(2, 24)\n"
     ]
    }
   ],
   "source": [
    "import random\n",
    "import time \n",
    "random.seed(8)\n",
    "list = [random.randint(0,100) for i in range(5)]\n",
    "#list\n",
    "\n",
    "def lab_syns(list):\n",
    "    last_time = None\n",
    "    for i in list:\n",
    "        current_time = time.time()\n",
    "        if last_time :\n",
    "            delta = current_time-last_time\n",
    "        else:\n",
    "            delta = current_time - current_time\n",
    "\n",
    "        last_time = time.time()\n",
    "        yield(int(delta),i)\n",
    "\n",
    "for g in lab_syns(list):\n",
    "    print(g)\n",
    "    time.sleep(2)"
   ]
  },
  {
   "cell_type": "markdown",
   "id": "46287a0d",
   "metadata": {},
   "source": [
    "# домашние задание к семенару 1"
   ]
  },
  {
   "cell_type": "markdown",
   "id": "d0528846",
   "metadata": {},
   "source": [
    "Дан список adv с затратами на рекламу.\n",
    "Но в данных есть ошибки, некоторые затраты имеют отрицательную величину.\n",
    "Удалите такие значения из списка и посчитайте суммарные затраты.\n",
    "Запишите их в переменную x.\n",
    "Используйте list comprehensions."
   ]
  },
  {
   "cell_type": "code",
   "execution_count": 2,
   "id": "942f9421",
   "metadata": {},
   "outputs": [
    {
     "name": "stdout",
     "output_type": "stream",
     "text": [
      "1425\n"
     ]
    }
   ],
   "source": [
    "adv = [100, 125, -90, 345, 655, -1, 0, 200]\n",
    "def get_sum(list)->list:\n",
    "    list=[i if i>0 else 0 for i in list]\n",
    "    h=0\n",
    "    for i in list :\n",
    "        h=h+i\n",
    "    return h\n",
    "x=get_sum(adv)\n",
    "print(x)\n"
   ]
  },
  {
   "cell_type": "code",
   "execution_count": 4,
   "id": "a604ff7e",
   "metadata": {},
   "outputs": [
    {
     "name": "stdout",
     "output_type": "stream",
     "text": [
      "1425\n"
     ]
    }
   ],
   "source": [
    "x = sum([i for i in adv if i > 0])\n",
    "print(x)"
   ]
  },
  {
   "cell_type": "markdown",
   "id": "38393eae",
   "metadata": {},
   "source": [
    "На складе лежат разные фрукты в разном количестве.\n",
    "Нужно написать функцию total_fruits, которая на вход принимает любое количество названий фруктов и их количество, а возвращает общее количество фруктов на складе.\n",
    "\n",
    "можно решить через *kwargs"
   ]
  },
  {
   "cell_type": "code",
   "execution_count": 5,
   "id": "9aace60d",
   "metadata": {},
   "outputs": [
    {
     "name": "stdout",
     "output_type": "stream",
     "text": [
      "23\n"
     ]
    }
   ],
   "source": [
    "def total_fruits(**kwargs):\n",
    "    if sum(kwargs.values())>0:\n",
    "        \n",
    "        return sum(kwargs.values())\n",
    "    return 0\n",
    "\n",
    "print(total_fruits(apples=10, bananas=5, oranges=8))"
   ]
  },
  {
   "cell_type": "code",
   "execution_count": 6,
   "id": "b3cca3c4",
   "metadata": {},
   "outputs": [
    {
     "name": "stdout",
     "output_type": "stream",
     "text": [
      "23\n"
     ]
    }
   ],
   "source": [
    "def total_fruits(**fruits):\n",
    "    total = 0\n",
    "    for amount in fruits.values():\n",
    "        total += amount\n",
    "    return total\n",
    "print(total_fruits(apples=10, bananas=5, oranges=8))"
   ]
  },
  {
   "cell_type": "markdown",
   "id": "8e17bc4f",
   "metadata": {},
   "source": [
    "Даны два списка: дата покупки dates, суммы покупок по датам income.\n",
    "Найти итоговую сумму всех покупок в ноябре и сохранить ее в переменную x.\n",
    "Используйте list comprehensions."
   ]
  },
  {
   "cell_type": "code",
   "execution_count": 19,
   "id": "a2fc7abf",
   "metadata": {},
   "outputs": [
    {
     "name": "stdout",
     "output_type": "stream",
     "text": [
      "100\n"
     ]
    }
   ],
   "source": [
    "dates = ['2021-11-01']\n",
    "income = [100]\n",
    "\n",
    "# Итоговая сумма всех покупок в ноябре\n",
    "x = sum([income[i] for i in range(len(dates))if dates[i].startswith('2021-11')])\n",
    "print(x)\n",
    "\n"
   ]
  },
  {
   "cell_type": "code",
   "execution_count": 20,
   "id": "a2bdcab9",
   "metadata": {},
   "outputs": [
    {
     "data": {
      "text/plain": [
       "100"
      ]
     },
     "execution_count": 20,
     "metadata": {},
     "output_type": "execute_result"
    }
   ],
   "source": [
    "x = sum([income [i] for i in range (len(dates)) if dates[i].split('-')[1] == '11'])\n",
    "x"
   ]
  },
  {
   "cell_type": "markdown",
   "id": "d94dd68d",
   "metadata": {},
   "source": [
    "Найдите выручку компании в зависимости от месяца Для этого напишите функцию calc_income_by_month(), которая на вход принимает список с датами и список с выручкой, а на выходе словарь, где ключи - это месяцы, а значения - это выручка. Используйте аннотирование типов."
   ]
  },
  {
   "cell_type": "code",
   "execution_count": 21,
   "id": "eb1c4202",
   "metadata": {},
   "outputs": [
    {
     "name": "stdout",
     "output_type": "stream",
     "text": [
      "{'11': 100}\n"
     ]
    }
   ],
   "source": [
    "dates = ['2021-11-01']\n",
    "incomes = [100]\n",
    "\n",
    "def calc_income_by_month(dates, incomes):\n",
    "    income_by_month = {}\n",
    "    \n",
    "    for date, income in zip(dates, incomes):\n",
    "        month = date[5:7]  # Извлечение месяца из даты в формате 'YYYY-MM-DD'\n",
    "        if month in income_by_month:\n",
    "            income_by_month[month] += income\n",
    "        else:\n",
    "            income_by_month[month] = income\n",
    "    \n",
    "    return income_by_month\n",
    "\n",
    "\n",
    "print(calc_income_by_month(dates, incomes))\n"
   ]
  },
  {
   "cell_type": "code",
   "execution_count": 23,
   "id": "e3887e48",
   "metadata": {},
   "outputs": [
    {
     "name": "stdout",
     "output_type": "stream",
     "text": [
      "{'11': 100}\n"
     ]
    }
   ],
   "source": [
    "def calc_income_by_month(dates, incomes):\n",
    "    income_by_month = {}\n",
    "\n",
    "    for i in range(len(dates)): \n",
    "        month = dates[i].split('-')[1]\n",
    "        if month in income_by_month:\n",
    "            income_by_month[month] += incomes[i]\n",
    "        else:\n",
    "            income_by_month[month] = incomes[i]\n",
    "\n",
    "    return income_by_month\n",
    "\n",
    "print(calc_income_by_month(dates, incomes))"
   ]
  }
 ],
 "metadata": {
  "kernelspec": {
   "display_name": "Python 3 (ipykernel)",
   "language": "python",
   "name": "python3"
  },
  "language_info": {
   "codemirror_mode": {
    "name": "ipython",
    "version": 3
   },
   "file_extension": ".py",
   "mimetype": "text/x-python",
   "name": "python",
   "nbconvert_exporter": "python",
   "pygments_lexer": "ipython3",
   "version": "3.12.4"
  }
 },
 "nbformat": 4,
 "nbformat_minor": 5
}
